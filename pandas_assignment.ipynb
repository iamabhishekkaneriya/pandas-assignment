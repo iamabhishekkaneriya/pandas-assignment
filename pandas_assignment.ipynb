{
 "cells": [
  {
   "cell_type": "code",
   "execution_count": 1,
   "id": "3c9ec636-8b3d-4a46-8ff4-43960fc16019",
   "metadata": {},
   "outputs": [
    {
     "name": "stdout",
     "output_type": "stream",
     "text": [
      "0     4\n",
      "1     8\n",
      "2    15\n",
      "3    16\n",
      "4    23\n",
      "5    42\n",
      "dtype: object\n"
     ]
    }
   ],
   "source": [
    "#Q1. Create a Pandas Series that contains the following data: 4, 8, 15, 16, 23, and 42. Then, print the series.\n",
    "#Answer\n",
    "import pandas as pd\n",
    "import numpy as np\n",
    "data = np.array(['4', '8','15', '16', '23', '42'])\n",
    "\n",
    "AB = pd.Series(data)\n",
    "print(AB)\n",
    "\n",
    "\n"
   ]
  },
  {
   "cell_type": "code",
   "execution_count": 2,
   "id": "430750de-dc6f-4d50-9cb5-a75bc90a324d",
   "metadata": {},
   "outputs": [
    {
     "data": {
      "text/plain": [
       "pandas.core.series.Series"
      ]
     },
     "execution_count": 2,
     "metadata": {},
     "output_type": "execute_result"
    }
   ],
   "source": [
    "type(AB)"
   ]
  },
  {
   "cell_type": "code",
   "execution_count": 3,
   "id": "3c96fde6-36f1-44a0-89ad-5cc7aa27f7a1",
   "metadata": {},
   "outputs": [],
   "source": [
    "#Q2. Create a variable of list type containing 10 elements in it, and apply pandas.Series function on the variable print it.\n",
    "#Answer.\n",
    "\n",
    "\n",
    "AB = pd.Series(range(10))\n",
    "\n"
   ]
  },
  {
   "cell_type": "code",
   "execution_count": 4,
   "id": "0a919980-86bf-4aff-b9a8-3de037672e79",
   "metadata": {},
   "outputs": [
    {
     "data": {
      "text/plain": [
       "[0, 1, 2, 3, 4, 5, 6, 7, 8, 9]"
      ]
     },
     "execution_count": 4,
     "metadata": {},
     "output_type": "execute_result"
    }
   ],
   "source": [
    "list(AB)\n"
   ]
  },
  {
   "cell_type": "code",
   "execution_count": 5,
   "id": "c5ab40bb-8e25-4a47-936a-bb27a393e5ef",
   "metadata": {},
   "outputs": [
    {
     "data": {
      "text/plain": [
       "pandas.core.series.Series"
      ]
     },
     "execution_count": 5,
     "metadata": {},
     "output_type": "execute_result"
    }
   ],
   "source": [
    "type(AB)"
   ]
  },
  {
   "cell_type": "code",
   "execution_count": 6,
   "id": "b1038843-38a3-480d-9bf3-797fb146924a",
   "metadata": {},
   "outputs": [
    {
     "name": "stdout",
     "output_type": "stream",
     "text": [
      "Defaulting to user installation because normal site-packages is not writeable\n",
      "Requirement already satisfied: write in /home/abhishek/.local/lib/python3.10/site-packages (2020.12.3)\n",
      "Requirement already satisfied: mkdir in /home/abhishek/.local/lib/python3.10/site-packages (from write) (2020.12.3)\n",
      "Requirement already satisfied: values in /home/abhishek/.local/lib/python3.10/site-packages (from mkdir->write) (2020.12.3)\n",
      "Note: you may need to restart the kernel to use updated packages.\n"
     ]
    }
   ],
   "source": [
    "pip install write\n"
   ]
  },
  {
   "cell_type": "code",
   "execution_count": 9,
   "id": "a62bd862-8229-4238-9691-b8649c826ebc",
   "metadata": {},
   "outputs": [
    {
     "data": {
      "text/html": [
       "<div>\n",
       "<style scoped>\n",
       "    .dataframe tbody tr th:only-of-type {\n",
       "        vertical-align: middle;\n",
       "    }\n",
       "\n",
       "    .dataframe tbody tr th {\n",
       "        vertical-align: top;\n",
       "    }\n",
       "\n",
       "    .dataframe thead th {\n",
       "        text-align: right;\n",
       "    }\n",
       "</style>\n",
       "<table border=\"1\" class=\"dataframe\">\n",
       "  <thead>\n",
       "    <tr style=\"text-align: right;\">\n",
       "      <th></th>\n",
       "      <th>Name        Age      Gender</th>\n",
       "    </tr>\n",
       "  </thead>\n",
       "  <tbody>\n",
       "    <tr>\n",
       "      <th>0</th>\n",
       "      <td>Alice       25       Female</td>\n",
       "    </tr>\n",
       "    <tr>\n",
       "      <th>1</th>\n",
       "      <td>Bob        30        Male</td>\n",
       "    </tr>\n",
       "    <tr>\n",
       "      <th>2</th>\n",
       "      <td>Claire       27       Female</td>\n",
       "    </tr>\n",
       "  </tbody>\n",
       "</table>\n",
       "</div>"
      ],
      "text/plain": [
       "                 Name        Age      Gender   \n",
       "0                Alice       25       Female   \n",
       "1                 Bob        30        Male    \n",
       "2               Claire       27       Female   "
      ]
     },
     "execution_count": 9,
     "metadata": {},
     "output_type": "execute_result"
    }
   ],
   "source": [
    "#Q3. Create a Pandas DataFrame that contains the following data Then, print the DataFrame.\n",
    "AK= pd.read_csv('PWS.csv')\n",
    "AK.head()\n"
   ]
  },
  {
   "cell_type": "code",
   "execution_count": 10,
   "id": "e3ad7708-ca73-4dc5-9992-16ecbd35d6ac",
   "metadata": {},
   "outputs": [
    {
     "data": {
      "text/plain": [
       "pandas.core.frame.DataFrame"
      ]
     },
     "execution_count": 10,
     "metadata": {},
     "output_type": "execute_result"
    }
   ],
   "source": [
    "type(AK)"
   ]
  },
  {
   "cell_type": "code",
   "execution_count": 11,
   "id": "8042e6ba-f2f3-41ad-b2f0-a8ab6c0453d2",
   "metadata": {},
   "outputs": [
    {
     "data": {
      "text/plain": [
       "' DataFrame is a 2-dimensional data structure designed for handling tabular data with multiple columns, \\nwhile a Series is a 1-dimensional data structure used to represent a single column or row of data within a DataFrame or as a standalone data structure.'"
      ]
     },
     "execution_count": 11,
     "metadata": {},
     "output_type": "execute_result"
    }
   ],
   "source": [
    "#Q4. What is ‘DataFrame’ in pandas and how is it different from pandas.series? Explain with an example.\n",
    "#Answer.\n",
    "''' DataFrame is a 2-dimensional data structure designed for handling tabular data with multiple columns, \n",
    "while a Series is a 1-dimensional data structure used to represent a single column or row of data within a DataFrame or as a standalone data structure.'''"
   ]
  },
  {
   "cell_type": "code",
   "execution_count": 16,
   "id": "b0519c13-84e2-4c28-bc12-8468eb1443d6",
   "metadata": {},
   "outputs": [
    {
     "data": {
      "text/plain": [
       "'1.read_csv(),\\n   2.head(),\\n   3.describe() etc,\\n  above Q.4 i use a function'"
      ]
     },
     "execution_count": 16,
     "metadata": {},
     "output_type": "execute_result"
    }
   ],
   "source": [
    "#Q5. What are some common functions you can use to manipulate data in a Pandas DataFrame? Can you give an example of when you might use one of these functions?\n",
    "#Answer.\n",
    "'''There is many common function'''\n",
    "'''1.read_csv(),\n",
    "   2.head(),\n",
    "   3.describe() etc,\n",
    "  above Q.4 i use a function'''"
   ]
  },
  {
   "cell_type": "code",
   "execution_count": 17,
   "id": "82b42b80-00e6-4fb9-a0fe-07b835a1410b",
   "metadata": {},
   "outputs": [
    {
     "data": {
      "text/plain": [
       "'DataFrames are both value and size-mutable (A Series, by contrast, is only value-mutable, not size-mutable. The length of a Series cannot be changed although the values can be changed)'"
      ]
     },
     "execution_count": 17,
     "metadata": {},
     "output_type": "execute_result"
    }
   ],
   "source": [
    "#Q6. Which of the following is mutable in nature Series, DataFrame, Panel?\n",
    "#Answer.\n",
    "'''DataFrames are both value and size-mutable (A Series, by contrast, is only value-mutable, not size-mutable. The length of a Series cannot be changed although the values can be changed)'''"
   ]
  },
  {
   "cell_type": "code",
   "execution_count": 19,
   "id": "d63f1a82-5d0b-4412-a431-00e71b190a98",
   "metadata": {},
   "outputs": [
    {
     "name": "stdout",
     "output_type": "stream",
     "text": [
      "0    sudh_sir\n",
      "1    Alak_sir\n",
      "2       Arpit\n",
      "3       Jyoti\n",
      "dtype: object\n"
     ]
    }
   ],
   "source": [
    "#Q7. Create a DataFrame using multiple Series. Explain with an example.\n",
    "#Answer.\n",
    "\n",
    "# Creating a list\n",
    "author = ['sudh_sir', 'Alak_sir', \n",
    "\t\t'Arpit', 'Jyoti']\n",
    "# Creating a Series by passing list \n",
    "# variable to Series() function\n",
    "auth_series = pd.Series(author)\n",
    "# Printing Series\n",
    "print(auth_series)\n"
   ]
  },
  {
   "cell_type": "code",
   "execution_count": null,
   "id": "5459f8aa-4cad-4dcc-a5bf-20b4c7ef851b",
   "metadata": {},
   "outputs": [],
   "source": []
  }
 ],
 "metadata": {
  "kernelspec": {
   "display_name": "Python 3 (ipykernel)",
   "language": "python",
   "name": "python3"
  },
  "language_info": {
   "codemirror_mode": {
    "name": "ipython",
    "version": 3
   },
   "file_extension": ".py",
   "mimetype": "text/x-python",
   "name": "python",
   "nbconvert_exporter": "python",
   "pygments_lexer": "ipython3",
   "version": "3.10.12"
  }
 },
 "nbformat": 4,
 "nbformat_minor": 5
}
